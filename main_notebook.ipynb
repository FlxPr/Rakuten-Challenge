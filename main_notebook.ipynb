{
 "cells": [
  {
   "cell_type": "code",
   "execution_count": 1,
   "metadata": {},
   "outputs": [],
   "source": [
    "import pandas as pd\n",
    "import numpy as np\n",
    "import spacy\n",
    "import matplotlib.pyplot as plt\n",
    "from pandarallel import pandarallel\n",
    "import json"
   ]
  },
  {
   "cell_type": "code",
   "execution_count": 2,
   "metadata": {},
   "outputs": [
    {
     "name": "stdout",
     "output_type": "stream",
     "text": [
      "INFO: Pandarallel will run on 4 workers.\n",
      "INFO: Pandarallel will use standard multiprocessing data transfer (pipe) to transfer data between the main process and workers.\n"
     ]
    }
   ],
   "source": [
    "pandarallel.initialize(progress_bar = True)"
   ]
  },
  {
   "cell_type": "code",
   "execution_count": 3,
   "metadata": {},
   "outputs": [],
   "source": [
    "df_train = pd.read_csv('Data/X_train_update.csv', index_col = 0)\n",
    "df_test = pd.read_csv('Data/X_test_update.csv', index_col = 0)\n",
    "y_train = pd.read_csv('Data/Y_train_CVw08PX.csv', index_col = 0).iloc[df_train.index].values.ravel()"
   ]
  },
  {
   "cell_type": "code",
   "execution_count": 4,
   "metadata": {},
   "outputs": [
    {
     "data": {
      "text/plain": [
       "Index(['designation', 'description', 'productid', 'imageid'], dtype='object')"
      ]
     },
     "execution_count": 4,
     "metadata": {},
     "output_type": "execute_result"
    }
   ],
   "source": [
    "df_train.columns"
   ]
  },
  {
   "cell_type": "code",
   "execution_count": 5,
   "metadata": {},
   "outputs": [],
   "source": [
    "df_train.drop(['description', 'productid', 'imageid'], axis = 1, inplace = True)\n",
    "df_test.drop(['description', 'productid', 'imageid'], axis = 1, inplace = True)"
   ]
  },
  {
   "cell_type": "code",
   "execution_count": 6,
   "metadata": {},
   "outputs": [
    {
     "data": {
      "text/html": [
       "<div>\n",
       "<style scoped>\n",
       "    .dataframe tbody tr th:only-of-type {\n",
       "        vertical-align: middle;\n",
       "    }\n",
       "\n",
       "    .dataframe tbody tr th {\n",
       "        vertical-align: top;\n",
       "    }\n",
       "\n",
       "    .dataframe thead th {\n",
       "        text-align: right;\n",
       "    }\n",
       "</style>\n",
       "<table border=\"1\" class=\"dataframe\">\n",
       "  <thead>\n",
       "    <tr style=\"text-align: right;\">\n",
       "      <th></th>\n",
       "      <th>designation</th>\n",
       "    </tr>\n",
       "  </thead>\n",
       "  <tbody>\n",
       "    <tr>\n",
       "      <th>0</th>\n",
       "      <td>Olivia: Personalisiertes Notizbuch / 150 Seite...</td>\n",
       "    </tr>\n",
       "    <tr>\n",
       "      <th>1</th>\n",
       "      <td>Journal Des Arts (Le) N° 133 Du 28/09/2001 - L...</td>\n",
       "    </tr>\n",
       "    <tr>\n",
       "      <th>2</th>\n",
       "      <td>Grand Stylet Ergonomique Bleu Gamepad Nintendo...</td>\n",
       "    </tr>\n",
       "    <tr>\n",
       "      <th>3</th>\n",
       "      <td>Peluche Donald - Europe - Disneyland 2000 (Mar...</td>\n",
       "    </tr>\n",
       "    <tr>\n",
       "      <th>4</th>\n",
       "      <td>La Guerre Des Tuques</td>\n",
       "    </tr>\n",
       "  </tbody>\n",
       "</table>\n",
       "</div>"
      ],
      "text/plain": [
       "                                         designation\n",
       "0  Olivia: Personalisiertes Notizbuch / 150 Seite...\n",
       "1  Journal Des Arts (Le) N° 133 Du 28/09/2001 - L...\n",
       "2  Grand Stylet Ergonomique Bleu Gamepad Nintendo...\n",
       "3  Peluche Donald - Europe - Disneyland 2000 (Mar...\n",
       "4                               La Guerre Des Tuques"
      ]
     },
     "execution_count": 6,
     "metadata": {},
     "output_type": "execute_result"
    }
   ],
   "source": [
    "df_train.head()"
   ]
  },
  {
   "cell_type": "code",
   "execution_count": 7,
   "metadata": {},
   "outputs": [],
   "source": [
    "nlp_fr = spacy.load(\"fr_core_news_sm\")"
   ]
  },
  {
   "cell_type": "code",
   "execution_count": 8,
   "metadata": {},
   "outputs": [],
   "source": [
    "def normalize_accent(string):\n",
    "    string = string.replace('á', 'a')\n",
    "    string = string.replace('â', 'a')\n",
    "\n",
    "    string = string.replace('é', 'e')\n",
    "    string = string.replace('è', 'e')\n",
    "    string = string.replace('ê', 'e')\n",
    "    string = string.replace('ë', 'e')\n",
    "\n",
    "    string = string.replace('î', 'i')\n",
    "    string = string.replace('ï', 'i')\n",
    "\n",
    "    string = string.replace('ö', 'o')\n",
    "    string = string.replace('ô', 'o')\n",
    "    string = string.replace('ò', 'o')\n",
    "    string = string.replace('ó', 'o')\n",
    "\n",
    "    string = string.replace('ù', 'u')\n",
    "    string = string.replace('û', 'u')\n",
    "    string = string.replace('ü', 'u')\n",
    "\n",
    "    string = string.replace('ç', 'c')\n",
    "    \n",
    "    return string"
   ]
  },
  {
   "cell_type": "code",
   "execution_count": 9,
   "metadata": {},
   "outputs": [],
   "source": [
    "def remove_digits(string):\n",
    "    result = ''.join([i for i in string if not i.isdigit()])\n",
    "    return result"
   ]
  },
  {
   "cell_type": "code",
   "execution_count": 10,
   "metadata": {},
   "outputs": [],
   "source": [
    "def raw_to_tokens(raw_string, spacy_nlp):\n",
    "    # Write code for lower-casing\n",
    "    string = raw_string.lower()\n",
    "    \n",
    "    string = normalize_accent(string)\n",
    "    \n",
    "    string = remove_digits(string)\n",
    "    \n",
    "    spacy_tokens = spacy_nlp(string)\n",
    "        \n",
    "    string_tokens = [token.orth_ for token in spacy_tokens if not token.is_punct and not token.is_stop]\n",
    "    \n",
    "    clean_string = \" \".join(string_tokens)\n",
    "    \n",
    "    return clean_string"
   ]
  },
  {
   "cell_type": "raw",
   "metadata": {},
   "source": [
    "def preprocess(df, nlp):\n",
    "    df['designation'] = df['designation'].parallel_apply(lambda x : raw_to_tokens(x, nlp))\n",
    "    \n",
    "preprocess(df_train, nlp_fr)\n",
    "preprocess(df_test, nlp_fr)"
   ]
  },
  {
   "cell_type": "raw",
   "metadata": {},
   "source": [
    "df_train.to_csv('Data/df_train_simple_preprocess.csv')\n",
    "df_test.to_csv('Data/df_test_simple_preprocess.csv')"
   ]
  },
  {
   "cell_type": "raw",
   "metadata": {},
   "source": [
    "df_train = pd.read_csv('Data/df_train_simple_preprocess.csv', index_col=0)\n",
    "df_test = pd.read_csv('Data/df_test_simple_preprocess.csv', index_col=0)"
   ]
  },
  {
   "cell_type": "raw",
   "metadata": {},
   "source": [
    "print('Null in Train: {} \\n Null in Test:{}'.format(df_train.isnull().sum(), df_test.isnull().sum()))"
   ]
  },
  {
   "cell_type": "raw",
   "metadata": {},
   "source": [
    "df_train.fillna('', inplace = True)\n",
    "df_test.fillna('', inplace = True)"
   ]
  },
  {
   "cell_type": "raw",
   "metadata": {},
   "source": [
    "from sklearn.feature_extraction.text import TfidfVectorizer\n",
    "vectorizer = TfidfVectorizer(\n",
    "    # max_df=0.2,\n",
    "    # min_df=0.00005,\n",
    "    strip_accents = 'ascii',\n",
    "    analyzer = 'word')\n",
    "X_train = vectorizer.fit_transform(df_train.designation.values).todense()\n",
    "X_test = vectorizer.transform(df_test.designation.values).todense()"
   ]
  },
  {
   "cell_type": "code",
   "execution_count": 11,
   "metadata": {},
   "outputs": [],
   "source": [
    "X_train_pca = pd.read_csv('Data/X_train_pca_1000.csv', index_col=0)\n",
    "X_test_pca = pd.read_csv('Data/X_test_pca_1000.csv', index_col=0)"
   ]
  },
  {
   "cell_type": "code",
   "execution_count": 12,
   "metadata": {},
   "outputs": [
    {
     "data": {
      "text/plain": [
       "(84916, 1000)"
      ]
     },
     "execution_count": 12,
     "metadata": {},
     "output_type": "execute_result"
    }
   ],
   "source": [
    "X_train_pca.shape"
   ]
  },
  {
   "cell_type": "markdown",
   "metadata": {},
   "source": [
    "# Algorithms"
   ]
  },
  {
   "cell_type": "markdown",
   "metadata": {},
   "source": [
    "### Decision Tree"
   ]
  },
  {
   "cell_type": "raw",
   "metadata": {},
   "source": [
    "from sklearn.tree import DecisionTreeClassifier\n",
    "from sklearn.model_selection import validation_curve\n",
    "\n",
    "tree_clf = DecisionTreeClassifier(class_weight='balanced')\n",
    "\n",
    "train_scores, test_scores = validation_curve(\n",
    "    tree_clf, X_train_pca, y_train, 'max_depth', [20*(i+1) for i in range(5)], cv=3, scoring='f1_weighted', n_jobs=-1, verbose=2\n",
    ")\n",
    "\n",
    "train_scores_mean = np.mean(train_scores, axis=1)\n",
    "train_scores_std = np.std(train_scores, axis=1)\n",
    "test_scores_mean = np.mean(test_scores, axis=1)\n",
    "test_scores_std = np.std(test_scores, axis=1)\n",
    "\n",
    "plt.title(\"Validation Curve\")\n",
    "plt.xlabel(r\"$\\max_depth$\")\n",
    "plt.ylabel(\"f1_weighted\")\n",
    "lw = 2\n",
    "plt.plot(param_range, train_scores_mean, label=\"Training score\",\n",
    "             color=\"darkorange\", lw=lw)\n",
    "plt.fill_between(param_range, train_scores_mean - train_scores_std,\n",
    "                 train_scores_mean + train_scores_std, alpha=0.2,\n",
    "                 color=\"darkorange\", lw=lw)\n",
    "plt.plot(param_range, test_scores_mean, label=\"Cross-validation score\",\n",
    "             color=\"navy\", lw=lw)\n",
    "plt.fill_between(param_range, test_scores_mean - test_scores_std,\n",
    "                 test_scores_mean + test_scores_std, alpha=0.2,\n",
    "                 color=\"navy\", lw=lw)\n",
    "plt.legend(loc=\"best\")\n",
    "plt.show()"
   ]
  },
  {
   "cell_type": "code",
   "execution_count": 13,
   "metadata": {},
   "outputs": [],
   "source": [
    "from sklearn.tree import DecisionTreeClassifier\n",
    "from sklearn.model_selection import GridSearchCV"
   ]
  },
  {
   "cell_type": "raw",
   "metadata": {},
   "source": [
    "parameters = {'max_depth':[10,30,100,300],'class_weight':['balanced'], 'min_samples_leaf':[1,5,10]}\n",
    "\n",
    "tree_clf = DecisionTreeClassifier()\n",
    "\n",
    "clf = GridSearchCV(\n",
    "    tree_clf,\n",
    "    parameters,\n",
    "    scoring = 'f1_weighted',\n",
    "    cv=3,\n",
    "    return_train_score=True,\n",
    "    verbose=2, \n",
    "    n_jobs=-1)\n",
    "\n",
    "clf = clf.fit(X_train_pca, y_train)\n",
    "res_grid_tree = pd.DataFrame(clf.cv_results_)\n",
    "best_grid_tree = pd.DataFrame(zip(clf.best_params_))\n",
    "\n",
    "res_grid_tree.to_csv('Results/res_grid_tree.csv')\n",
    "best_grid_tree.to_csv('Results/best_grid_tree.csv')\n",
    "\n",
    "print(best_grid_tree)\n",
    "res_grid_tree"
   ]
  },
  {
   "cell_type": "code",
   "execution_count": null,
   "metadata": {},
   "outputs": [
    {
     "name": "stdout",
     "output_type": "stream",
     "text": [
      "Fitting 3 folds for each of 3 candidates, totalling 9 fits\n"
     ]
    },
    {
     "name": "stderr",
     "output_type": "stream",
     "text": [
      "[Parallel(n_jobs=-1)]: Using backend LokyBackend with 4 concurrent workers.\n"
     ]
    }
   ],
   "source": [
    "from sklearn.ensemble import BaggingClassifier\n",
    "\n",
    "base_estimator_1 = DecisionTreeClassifier(max_depth=10, class_weight='balanced')\n",
    "base_estimator_2 = DecisionTreeClassifier(max_depth=30, class_weight='balanced')\n",
    "base_estimator_3 = DecisionTreeClassifier(max_depth=100, class_weight='balanced')\n",
    "\n",
    "parameters = {'base_estimator':[base_estimator_1, base_estimator_2, base_estimator_3], 'n_estimators':[10]}\n",
    "bagging_tree = BaggingClassifier(n_jobs=-1)\n",
    "\n",
    "clf = GridSearchCV(\n",
    "    bagging_tree, \n",
    "    parameters,\n",
    "    scoring = 'f1_weighted', \n",
    "    cv=3, \n",
    "    return_train_score=True,\n",
    "    verbose=2,\n",
    "    n_jobs=-1)\n",
    "\n",
    "clf = clf.fit(X_train_pca, y_train)\n",
    "res_grid_bagging = pd.DataFrame(clf.cv_results_)\n",
    "best_grid_bagging = pd.DataFrame(zip(clf.best_params_))\n",
    "\n",
    "res_grid_bagging.to_csv('Results/res_grid_bagging.csv')\n",
    "best_grid_bagging.to_csv('Results/best_grid_bagging.csv')\n",
    "\n",
    "print(best_grid_bagging)\n",
    "res_grid_bagging"
   ]
  },
  {
   "cell_type": "code",
   "execution_count": null,
   "metadata": {},
   "outputs": [],
   "source": [
    "from sklearn.ensemble import RandomForestClassifier\n",
    "\n",
    "parameters = {'max_depth':[10, 30, 100], 'n_estimators':[10], 'min_samples_leaf':[1, 5], 'class_weight':['balanced']}\n",
    "rf = RandomForestClassifier(random_state=0, n_jobs=-1)\n",
    "\n",
    "clf = GridSearchCV(\n",
    "    rf,\n",
    "    parameters,\n",
    "    scoring = 'f1_weighted',\n",
    "    cv = 3,\n",
    "    return_train_score = True,\n",
    "    verbose = 2, \n",
    "    n_jobs=-1)\n",
    "\n",
    "clf = clf.fit(X_train_pca, y_train)\n",
    "res_grid_rf = pd.DataFrame(clf.cv_results_)\n",
    "best_grid_rf = pd.DataFrame(zip(clf.best_params_))\n",
    "\n",
    "res_grid_rf.to_csv('Results/res_grid_rf.csv')\n",
    "best_grid_rf.to_csv('Results/best_grid_rf.csv')\n",
    "\n",
    "print(best_grid_rf)\n",
    "res_grid_rf"
   ]
  },
  {
   "cell_type": "code",
   "execution_count": null,
   "metadata": {},
   "outputs": [],
   "source": [
    "from sklearn.ensemble import GradientBoostingClassifier\n",
    "\n",
    "parameters = {'n_estimators':[10],\n",
    "              'max_depth': [10, 30, 100]}\n",
    "gb = GradientBoostingClassifier()\n",
    "\n",
    "clf = GridSearchCV(\n",
    "    gb,\n",
    "    parameters,\n",
    "    scoring='f1_weighted',\n",
    "    cv=3,\n",
    "    return_train_score=True,\n",
    "    verbose=2, \n",
    "    n_jobs=-1)\n",
    "\n",
    "clf = clf.fit(X_train_pca, y_train)\n",
    "res_grid_gb = pd.DataFrame(clf.cv_results_)\n",
    "best_grid_gb = pd.DataFrame(zip(clf.best_params_))\n",
    "\n",
    "res_grid_gb.to_csv('Results/res_grid_gb.csv')\n",
    "best_grid_gb.to_csv('Results/best_grid_gb.csv')\n",
    "\n",
    "print(best_grid_gb)\n",
    "res_grid_gb"
   ]
  },
  {
   "cell_type": "code",
   "execution_count": null,
   "metadata": {},
   "outputs": [],
   "source": [
    "import xgboost as xgb\n",
    "\n",
    "parameters = {'n_estimators':[10],\n",
    "              'max_depth': [10, 30, 100]}\n",
    "xgb = xgb.XGBClassifier(objective='multi:softmax', verbosity=2, n_jobs=-1)\n",
    "\n",
    "clf = GridSearchCV(\n",
    "    xgb,\n",
    "    parameters,\n",
    "    scoring='f1_weighted',\n",
    "    cv=3,\n",
    "    return_train_score=True,\n",
    "    verbose=2,\n",
    "    n_jobs=-1)\n",
    "\n",
    "clf = clf.fit(X_train_pca, y_train)\n",
    "res_grid_xgb = pd.DataFrame(clf.cv_results_)\n",
    "best_grid_xgb = pd.DataFrame(zip(clf.best_params_))\n",
    "\n",
    "res_grid_xgb.to_csv('Results/res_grid_xgb.csv')\n",
    "best_grid_xgb.to_csv('Results/best_grid_xgb.csv')\n",
    "\n",
    "print(best_grid_xgb)\n",
    "res_grid_xgb"
   ]
  },
  {
   "cell_type": "code",
   "execution_count": null,
   "metadata": {},
   "outputs": [],
   "source": [
    "Decision Trees, Bagging, Random forests, Boosting, Gradient Boosted Trees, AdaBoost, etc."
   ]
  },
  {
   "cell_type": "code",
   "execution_count": null,
   "metadata": {},
   "outputs": [],
   "source": []
  },
  {
   "cell_type": "code",
   "execution_count": null,
   "metadata": {},
   "outputs": [],
   "source": []
  },
  {
   "cell_type": "code",
   "execution_count": null,
   "metadata": {},
   "outputs": [],
   "source": []
  }
 ],
 "metadata": {
  "kernelspec": {
   "display_name": "Python 3",
   "language": "python",
   "name": "python3"
  },
  "language_info": {
   "codemirror_mode": {
    "name": "ipython",
    "version": 3
   },
   "file_extension": ".py",
   "mimetype": "text/x-python",
   "name": "python",
   "nbconvert_exporter": "python",
   "pygments_lexer": "ipython3",
   "version": "3.7.4"
  }
 },
 "nbformat": 4,
 "nbformat_minor": 4
}
